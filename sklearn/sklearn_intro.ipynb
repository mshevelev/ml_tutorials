{
 "cells": [
  {
   "cell_type": "code",
   "execution_count": 81,
   "metadata": {},
   "outputs": [],
   "source": [
    "import numpy as np\n",
    "import pandas as pd\n",
    "import matplotlib.pyplot as plt\n",
    "import seaborn as sns\n",
    "import itertools\n",
    "\n",
    "from sklearn import datasets\n",
    "from sklearn import linear_model\n",
    "\n",
    "from sklearn import metrics\n",
    "\n",
    "%matplotlib inline"
   ]
  },
  {
   "cell_type": "code",
   "execution_count": 2,
   "metadata": {},
   "outputs": [],
   "source": [
    "iris = datasets.load_iris()\n"
   ]
  },
  {
   "cell_type": "markdown",
   "metadata": {},
   "source": [
    "### Recognizing Digits"
   ]
  },
  {
   "cell_type": "raw",
   "metadata": {},
   "source": [
    "In scikit-learn, an estimator for classification is a Python object that implements the methods fit(X, y) and predict(T)."
   ]
  },
  {
   "cell_type": "code",
   "execution_count": 3,
   "metadata": {},
   "outputs": [
    {
     "name": "stdout",
     "output_type": "stream",
     "text": [
      "(1797, 64)\n"
     ]
    }
   ],
   "source": [
    "digits = datasets.load_digits()\n",
    "n_samples = digits.data.shape[0]\n",
    "print digits.data.shape"
   ]
  },
  {
   "cell_type": "code",
   "execution_count": 4,
   "metadata": {},
   "outputs": [
    {
     "data": {
      "image/png": "[encoded data removed]",
      "text/plain": [
       "<matplotlib.figure.Figure at 0x116495210>"
      ]
     },
     "metadata": {},
     "output_type": "display_data"
    }
   ],
   "source": [
    "def plot_images(images, expected=None, predicted=None):\n",
    "    f = plt.figure(figsize=(20,4))\n",
    "    axs = f.subplots(nrows=1, ncols=len(images))\n",
    "    for k in range(len(images)):\n",
    "        ax = axs[k]\n",
    "        ax.set_axis_off()\n",
    "        ax.imshow(images[k], plt.cm.gray_r, interpolation='nearest')\n",
    "        title = \"\"\n",
    "        if expected is not None:\n",
    "            title += \"Expected: %d\\n\" % expected[k]\n",
    "        if predicted is not None:\n",
    "            title += \"Predicted: %d\\n\" % predicted[k]\n",
    "        ax.set_title(title)\n",
    "\n",
    "plot_images(digits.images[10:15], digits.target[10:15])\n",
    "                   \n",
    "\n",
    "                   "
   ]
  },
  {
   "cell_type": "code",
   "execution_count": 5,
   "metadata": {},
   "outputs": [],
   "source": [
    "from sklearn import svm\n",
    "clf = svm.SVC(gamma=0.001, C=100.)"
   ]
  },
  {
   "cell_type": "code",
   "execution_count": 6,
   "metadata": {},
   "outputs": [
    {
     "data": {
      "text/plain": [
       "SVC(C=100.0, cache_size=200, class_weight=None, coef0=0.0,\n",
       "  decision_function_shape='ovr', degree=3, gamma=0.001, kernel='rbf',\n",
       "  max_iter=-1, probability=False, random_state=None, shrinking=True,\n",
       "  tol=0.001, verbose=False)"
      ]
     },
     "execution_count": 6,
     "metadata": {},
     "output_type": "execute_result"
    }
   ],
   "source": [
    "clf.fit(digits.data[:n_samples / 2], digits.target[:n_samples/2])"
   ]
  },
  {
   "cell_type": "code",
   "execution_count": 7,
   "metadata": {},
   "outputs": [
    {
     "name": "stdout",
     "output_type": "stream",
     "text": [
      "    expected  predicted  correct\n",
      "0          8          8     True\n",
      "1          8          8     True\n",
      "2          4          4     True\n",
      "3          9          9     True\n",
      "4          0          0     True\n",
      "5          8          8     True\n",
      "6          9          9     True\n",
      "7          8          8     True\n",
      "8          1          1     True\n",
      "9          2          2     True\n",
      "10         3          3     True\n",
      "11         4          4     True\n",
      "12         5          5     True\n",
      "13         6          6     True\n",
      "14         7          7     True\n",
      "15         8          8     True\n",
      "16         9          9     True\n",
      "17         0          0     True\n",
      "18         1          1     True\n",
      "19         2          2     True\n",
      "0.969966629588\n"
     ]
    }
   ],
   "source": [
    "test_digits = digits.images[n_samples/2:]\n",
    "test_data = digits.data[n_samples/2:]\n",
    "expected = digits.target[n_samples/2:]\n",
    "predicted = clf.predict(test_data)\n",
    "\n",
    "df = pd.DataFrame({\n",
    "    \"predicted\": predicted,\n",
    "    \"expected\": expected\n",
    "})\n",
    "df[\"correct\"] = df[\"predicted\"] == df[\"expected\"]\n",
    "print df.head(20)\n",
    "print float(df[\"correct\"].sum()) / len(df)"
   ]
  },
  {
   "cell_type": "code",
   "execution_count": 8,
   "metadata": {},
   "outputs": [
    {
     "data": {
      "image/png": "[encoded data removed]",
      "text/plain": [
       "<matplotlib.figure.Figure at 0x116484a10>"
      ]
     },
     "metadata": {},
     "output_type": "display_data"
    }
   ],
   "source": [
    "plot_images(test_digits[:5], expected[:5], predicted[:5])\n"
   ]
  },
  {
   "cell_type": "code",
   "execution_count": 9,
   "metadata": {},
   "outputs": [
    {
     "name": "stdout",
     "output_type": "stream",
     "text": [
      "             precision    recall  f1-score   support\n",
      "\n",
      "          0       1.00      0.99      0.99        88\n",
      "          1       0.99      0.96      0.97        91\n",
      "          2       0.99      0.99      0.99        86\n",
      "          3       0.98      0.90      0.94        91\n",
      "          4       0.99      0.96      0.97        92\n",
      "          5       0.95      0.96      0.95        91\n",
      "          6       0.99      0.99      0.99        91\n",
      "          7       0.98      0.99      0.98        89\n",
      "          8       0.94      1.00      0.97        88\n",
      "          9       0.92      0.98      0.95        92\n",
      "\n",
      "avg / total       0.97      0.97      0.97       899\n",
      "\n"
     ]
    }
   ],
   "source": [
    "print metrics.classification_report(expected, predicted)"
   ]
  },
  {
   "cell_type": "code",
   "execution_count": 10,
   "metadata": {},
   "outputs": [
    {
     "name": "stdout",
     "output_type": "stream",
     "text": [
      "[[87  0  0  0  1  0  0  0  0  0]\n",
      " [ 0 87  1  0  0  0  0  0  2  1]\n",
      " [ 0  0 85  1  0  0  0  0  0  0]\n",
      " [ 0  0  0 82  0  3  0  2  4  0]\n",
      " [ 0  0  0  0 88  0  0  0  0  4]\n",
      " [ 0  0  0  0  0 87  1  0  0  3]\n",
      " [ 0  1  0  0  0  0 90  0  0  0]\n",
      " [ 0  0  0  0  0  1  0 88  0  0]\n",
      " [ 0  0  0  0  0  0  0  0 88  0]\n",
      " [ 0  0  0  1  0  1  0  0  0 90]]\n"
     ]
    }
   ],
   "source": [
    "print metrics.confusion_matrix(expected, predicted)"
   ]
  },
  {
   "cell_type": "markdown",
   "metadata": {},
   "source": [
    "### Diabetes dataset\n",
    "http://scikit-learn.org/stable/tutorial/statistical_inference/supervised_learning.html#linear-model-from-regression-to-sparsity"
   ]
  },
  {
   "cell_type": "code",
   "execution_count": 11,
   "metadata": {},
   "outputs": [],
   "source": [
    "diabetes = datasets.load_diabetes()"
   ]
  },
  {
   "cell_type": "code",
   "execution_count": 12,
   "metadata": {},
   "outputs": [
    {
     "name": "stdout",
     "output_type": "stream",
     "text": [
      "(442, 11)\n"
     ]
    }
   ],
   "source": [
    "data = pd.DataFrame(diabetes.data, columns = diabetes.feature_names)\n",
    "features = data.columns\n",
    "data['y'] = diabetes.target\n",
    "#data = pd.concat([diabetes.data, diabetes.target], axis='columns')\n",
    "print data.shape\n",
    "\n",
    "ix = np.random.permutation(np.arange(len(data)))\n",
    "data_train = data.loc[ix[:400]]\n",
    "data_test = data.loc[ix[400:]]"
   ]
  },
  {
   "cell_type": "code",
   "execution_count": 13,
   "metadata": {},
   "outputs": [
    {
     "data": {
      "text/plain": [
       "<matplotlib.axes._subplots.AxesSubplot at 0x116fe90d0>"
      ]
     },
     "execution_count": 13,
     "metadata": {},
     "output_type": "execute_result"
    },
    {
     "data": {
      "image/png": "[encoded data removed]",
      "text/plain": [
       "<matplotlib.figure.Figure at 0x11647aed0>"
      ]
     },
     "metadata": {},
     "output_type": "display_data"
    }
   ],
   "source": [
    "sns.heatmap(data.corr(), cmap=plt.cm.coolwarm)\n"
   ]
  },
  {
   "cell_type": "code",
   "execution_count": 14,
   "metadata": {},
   "outputs": [
    {
     "data": {
      "text/plain": [
       "<matplotlib.axes._subplots.AxesSubplot at 0x1171f1610>"
      ]
     },
     "execution_count": 14,
     "metadata": {},
     "output_type": "execute_result"
    },
    {
     "data": {
      "image/png": "[encoded data removed]",
      "text/plain": [
       "<matplotlib.figure.Figure at 0x1171724d0>"
      ]
     },
     "metadata": {},
     "output_type": "display_data"
    }
   ],
   "source": [
    "data['y'].hist()"
   ]
  },
  {
   "cell_type": "code",
   "execution_count": null,
   "metadata": {},
   "outputs": [],
   "source": []
  },
  {
   "cell_type": "code",
   "execution_count": 15,
   "metadata": {},
   "outputs": [],
   "source": [
    "def compute_mse(y_true, y_predicted):\n",
    "    return ((y_true - y_predicted)**2).mean()\n",
    "\n",
    "def compute_R2(y_true, y_predicted):\n",
    "    return 1. - compute_mse(y_true, y_predicted) / ((y_true - y_true.mean())**2).mean()\n"
   ]
  },
  {
   "cell_type": "code",
   "execution_count": 16,
   "metadata": {},
   "outputs": [
    {
     "name": "stdout",
     "output_type": "stream",
     "text": [
      "Baseline (mean):\n",
      "MSE: 5514.51225625\n",
      "R2 : -0.0136556984243\n"
     ]
    }
   ],
   "source": [
    "expected = data_test['y']\n",
    "predicted0 = data_train['y'].mean()\n",
    "print \"Baseline (mean):\"\n",
    "print \"MSE:\", compute_mse(expected, predicted0)\n",
    "print \"R2 :\", compute_R2(expected, predicted0)"
   ]
  },
  {
   "cell_type": "code",
   "execution_count": 17,
   "metadata": {},
   "outputs": [
    {
     "name": "stdout",
     "output_type": "stream",
     "text": [
      "linear_reg\n",
      "MSE: 3115.33296338\n",
      "R2 : 0.427351891866\n"
     ]
    }
   ],
   "source": [
    "reg = linear_model.LinearRegression()\n",
    "reg.fit(data_train[features], data_train['y'])\n",
    "predicted1 = reg.predict(data_test[features])\n",
    "print \"linear_reg\"\n",
    "print \"MSE:\", compute_mse(expected, predicted1)\n",
    "print \"R2 :\", compute_R2(expected, predicted1)"
   ]
  },
  {
   "cell_type": "code",
   "execution_count": 18,
   "metadata": {},
   "outputs": [
    {
     "name": "stdout",
     "output_type": "stream",
     "text": [
      "ridge (with holdout)\n",
      "MSE:3062.83\n",
      "R2 : 0.4370\n",
      "[ -27.32490101 -239.93621438  541.18061233  300.34390638 -214.82646997\n",
      "  -15.09288298 -130.85204584  153.53133427  508.68935582   89.33915311]\n"
     ]
    },
    {
     "data": {
      "image/png": "[encoded data removed]",
      "text/plain": [
       "<matplotlib.figure.Figure at 0x116f6d9d0>"
      ]
     },
     "metadata": {},
     "output_type": "display_data"
    }
   ],
   "source": [
    "reg = linear_model.Ridge()\n",
    "alphas = np.logspace(-5, 1, 20)\n",
    "scores = [reg.set_params(alpha=alpha).fit(data_train.loc[:300, features], data_train.loc[:300, 'y']).score(data_train.loc[300:, features], data_train.loc[300:, 'y']) for alpha in alphas]\n",
    "alpha_0 = alphas[np.argmax(scores)]\n",
    "plt.plot(np.log(alphas), scores)\n",
    "plt.axvline(np.log(alpha_0), color='yellow')\n",
    "#print zip(alphas, scores)\n",
    "reg.set_params(alpha=alpha_0).fit(data_train.loc[:, features], data_train.loc[:, 'y'])\n",
    "predicted2 = reg.predict(data_test[features])\n",
    "print \"ridge (with holdout)\"\n",
    "print \"MSE:%.2f\" % compute_mse(expected, predicted2)\n",
    "print \"R2 : %.4f\" % compute_R2(expected, predicted2)\n",
    "print reg.coef_"
   ]
  },
  {
   "cell_type": "code",
   "execution_count": 19,
   "metadata": {},
   "outputs": [
    {
     "name": "stdout",
     "output_type": "stream",
     "text": [
      "lasso (with holdout)\n",
      "MSE:3030.27\n",
      "R2 : 0.4430\n",
      "[ -12.30038909 -225.61273489  553.56670096  289.04620947 -207.05508396\n",
      "   -0.         -138.45302228  111.94550588  528.55966774   70.88974898]\n"
     ]
    },
    {
     "data": {
      "image/png": "[encoded data removed]",
      "text/plain": [
       "<matplotlib.figure.Figure at 0x1172e3790>"
      ]
     },
     "metadata": {},
     "output_type": "display_data"
    }
   ],
   "source": [
    "reg = linear_model.Lasso()\n",
    "alphas = np.logspace(-5, 1, 20)\n",
    "scores = [reg.set_params(alpha=alpha).fit(data_train.loc[:300, features], data_train.loc[:300, 'y']).score(data_train.loc[300:, features], data_train.loc[300:, 'y']) for alpha in alphas]\n",
    "alpha_0 = alphas[np.argmax(scores)]\n",
    "plt.plot(np.log(alphas), scores)\n",
    "plt.axvline(np.log(alpha_0), color='yellow')\n",
    "#print zip(alphas, scores)\n",
    "reg.set_params(alpha=alpha_0).fit(data_train.loc[:, features], data_train.loc[:, 'y'])\n",
    "predicted3 = reg.predict(data_test[features])\n",
    "print \"lasso (with holdout)\"\n",
    "print \"MSE:%.2f\" % compute_mse(expected, predicted3)\n",
    "print \"R2 : %.4f\" % compute_R2(expected, predicted3)\n",
    "print reg.coef_"
   ]
  },
  {
   "cell_type": "markdown",
   "metadata": {},
   "source": [
    "### Exercise\n",
    "\n",
    "Try classifying the digits dataset with nearest neighbors and a linear model. Leave out the last 10% and test prediction performance on these observations."
   ]
  },
  {
   "cell_type": "code",
   "execution_count": 42,
   "metadata": {},
   "outputs": [],
   "source": [
    "from sklearn import datasets\n",
    "from sklearn import linear_model, neighbors\n",
    "from sklearn import model_selection\n",
    "from sklearn import metrics"
   ]
  },
  {
   "cell_type": "code",
   "execution_count": 75,
   "metadata": {},
   "outputs": [],
   "source": [
    "digits = datasets.load_digits()"
   ]
  },
  {
   "cell_type": "code",
   "execution_count": 76,
   "metadata": {},
   "outputs": [],
   "source": [
    "X_train, X_test, y_train, y_test, digits_train, digits_test = model_selection.train_test_split(digits.data, digits.target, digits.images, test_size=0.1, shuffle=False)"
   ]
  },
  {
   "cell_type": "code",
   "execution_count": 60,
   "metadata": {},
   "outputs": [
    {
     "name": "stdout",
     "output_type": "stream",
     "text": [
      "(1617, 64)\n",
      "(1617,)\n",
      "(180, 64)\n",
      "(180,)\n"
     ]
    }
   ],
   "source": [
    "print X_train.shape\n",
    "print y_train.shape\n",
    "print X_test.shape\n",
    "print y_test.shape"
   ]
  },
  {
   "cell_type": "code",
   "execution_count": 120,
   "metadata": {},
   "outputs": [
    {
     "name": "stdout",
     "output_type": "stream",
     "text": [
      "4\n",
      "[[16  0  0  0  0  0  0  0  0  0]\n",
      " [ 0 19  0  0  0  0  0  0  0  0]\n",
      " [ 0  0 17  0  0  0  0  0  0  0]\n",
      " [ 0  0  1 16  0  1  0  0  0  0]\n",
      " [ 0  0  0  0 20  0  0  0  0  0]\n",
      " [ 0  0  0  0  0 18  0  0  0  0]\n",
      " [ 0  0  0  0  0  0 18  0  0  0]\n",
      " [ 0  0  0  0  0  0  0 19  0  0]\n",
      " [ 0  1  0  0  0  0  0  0 16  0]\n",
      " [ 0  0  0  1  0  1  0  0  0 16]]\n",
      "0.972222222222\n",
      "             precision    recall  f1-score   support\n",
      "\n",
      "          0       1.00      1.00      1.00        16\n",
      "          1       0.95      1.00      0.97        19\n",
      "          2       0.94      1.00      0.97        17\n",
      "          3       0.94      0.89      0.91        18\n",
      "          4       1.00      1.00      1.00        20\n",
      "          5       0.90      1.00      0.95        18\n",
      "          6       1.00      1.00      1.00        18\n",
      "          7       1.00      1.00      1.00        19\n",
      "          8       1.00      0.94      0.97        17\n",
      "          9       1.00      0.89      0.94        18\n",
      "\n",
      "avg / total       0.97      0.97      0.97       180\n",
      "\n"
     ]
    },
    {
     "data": {
      "image/png": "[encoded data removed]",
      "text/plain": [
       "<matplotlib.figure.Figure at 0x116d36ed0>"
      ]
     },
     "metadata": {},
     "output_type": "display_data"
    }
   ],
   "source": [
    "clf_knn = neighbors.KNeighborsClassifier(n_neighbors=5, weights='distance', p=2)\n",
    "X_train0, X_valid, y_train0, y_valid = model_selection.train_test_split(X_train, y_train, test_size=0.1, shuffle=False)\n",
    "l_k = range(1, 22)\n",
    "params = l_k\n",
    "#print params\n",
    "scores = [clf_knn.set_params(n_neighbors=k).fit(X_train0, y_train0).score(X_valid, y_valid) for k in params]\n",
    "plt.plot(l_k, scores, label=\"weights=distance, p=2\")\n",
    "plt.legend()\n",
    "\n",
    "k0 = params[np.argmax(scores + np.arange(len(scores)) * 1e-6)]\n",
    "print k0\n",
    "\n",
    "clf_knn.set_params(n_neighbors=k0).fit(X_train, y_train)\n",
    "y_predicted = clf_knn.predict(X_test)\n",
    "print metrics.confusion_matrix(y_test, y_pred=y_predicted)\n",
    "print metrics.accuracy_score(y_test, y_pred=y_predicted)\n",
    "print metrics.classification_report(y_true=y_test, y_pred=y_predicted)"
   ]
  },
  {
   "cell_type": "code",
   "execution_count": 74,
   "metadata": {},
   "outputs": [
    {
     "name": "stdout",
     "output_type": "stream",
     "text": [
      "[[16  0  0  0  0  0  0  0  0  0]\n",
      " [ 0 19  0  0  0  0  0  0  0  0]\n",
      " [ 0  0 16  1  0  0  0  0  0  0]\n",
      " [ 0  1  0 12  0  2  0  3  0  0]\n",
      " [ 0  0  0  0 18  0  0  1  1  0]\n",
      " [ 0  0  0  0  1 17  0  0  0  0]\n",
      " [ 0  0  0  0  0  0 18  0  0  0]\n",
      " [ 0  0  0  0  0  0  0 19  0  0]\n",
      " [ 0  1  0  1  0  0  1  1 13  0]\n",
      " [ 0  0  0  2  0  2  0  1  0 13]]\n",
      "0.894444444444\n",
      "             precision    recall  f1-score   support\n",
      "\n",
      "          0       1.00      1.00      1.00        16\n",
      "          1       0.90      1.00      0.95        19\n",
      "          2       1.00      0.94      0.97        17\n",
      "          3       0.75      0.67      0.71        18\n",
      "          4       0.95      0.90      0.92        20\n",
      "          5       0.81      0.94      0.87        18\n",
      "          6       0.95      1.00      0.97        18\n",
      "          7       0.76      1.00      0.86        19\n",
      "          8       0.93      0.76      0.84        17\n",
      "          9       1.00      0.72      0.84        18\n",
      "\n",
      "avg / total       0.90      0.89      0.89       180\n",
      "\n"
     ]
    }
   ],
   "source": [
    "clf_lreg = linear_model.LogisticRegression(penalty='l2', C=1e-5)\n",
    "clf_lreg.fit(X_train, y_train)\n",
    "y_predicted = clf_lreg.predict(X_test)\n",
    "print metrics.confusion_matrix(y_test, y_pred=y_predicted)\n",
    "print metrics.accuracy_score(y_test, y_pred=y_predicted)\n",
    "print metrics.classification_report(y_true=y_test, y_pred=y_predicted)"
   ]
  },
  {
   "cell_type": "code",
   "execution_count": 79,
   "metadata": {},
   "outputs": [
    {
     "data": {
      "image/png": "[encoded data removed]",
      "text/plain": [
       "<matplotlib.figure.Figure at 0x1a21488550>"
      ]
     },
     "metadata": {},
     "output_type": "display_data"
    }
   ],
   "source": [
    "ix = np.where(y_predicted != y_test)[0]\n",
    "plot_images(digits_test[ix[:5]], y_test[ix[:5]], y_predicted[ix[:5]])"
   ]
  },
  {
   "cell_type": "markdown",
   "metadata": {},
   "source": [
    "## SVM"
   ]
  },
  {
   "cell_type": "markdown",
   "metadata": {},
   "source": [
    "__Exercise__\n",
    "Try classifying classes 1 and 2 from the iris dataset with SVMs, with the 2 first features. Leave out 10% of each class and test prediction performance on these observations.\n",
    "\n",
    "__Warning__ the classes are ordered, do not leave out the last 10%, you would be testing on only one class.\n",
    "\n",
    "__Hint__ You can use the decision_function method on a grid to get intuitions."
   ]
  },
  {
   "cell_type": "code",
   "execution_count": 136,
   "metadata": {},
   "outputs": [
    {
     "name": "stdout",
     "output_type": "stream",
     "text": [
      "(100, 2)\n",
      "set([1, 2])\n"
     ]
    }
   ],
   "source": [
    "from sklearn import svm\n",
    "\n",
    "iris = datasets.load_iris()\n",
    "X = iris.data\n",
    "y = iris.target\n",
    "\n",
    "ix = np.where(np.isin(y, [1, 2]))[0]\n",
    "X = X[ix, :2]\n",
    "y = y[ix]\n",
    "print X.shape\n",
    "print set(y)\n"
   ]
  },
  {
   "cell_type": "code",
   "execution_count": 180,
   "metadata": {},
   "outputs": [],
   "source": [
    "X_train, X_test, y_train, y_test = model_selection.train_test_split(X, y, test_size=0.1, shuffle=True, random_state=0)"
   ]
  },
  {
   "cell_type": "code",
   "execution_count": 169,
   "metadata": {},
   "outputs": [],
   "source": [
    "clf = svm.SVC(probability=True)"
   ]
  },
  {
   "cell_type": "code",
   "execution_count": 171,
   "metadata": {},
   "outputs": [
    {
     "name": "stdout",
     "output_type": "stream",
     "text": [
      "[1 1 2 1 2 1 2 1 2 1]\n",
      "[1 1 2 2 1 1 2 1 2 1]\n",
      "[[5 1]\n",
      " [1 3]]\n",
      "             precision    recall  f1-score   support\n",
      "\n",
      "          1       0.83      0.83      0.83         6\n",
      "          2       0.75      0.75      0.75         4\n",
      "\n",
      "avg / total       0.80      0.80      0.80        10\n",
      "\n"
     ]
    }
   ],
   "source": [
    "clf.fit(X_train, y_train)\n",
    "predicted = clf.predict(X_test)\n",
    "predicted\n",
    "print y_test\n",
    "print predicted\n",
    "print metrics.confusion_matrix(y_true=y_test, y_pred=predicted)\n",
    "print metrics.classification_report(y_true=y_test, y_pred=predicted)"
   ]
  },
  {
   "cell_type": "code",
   "execution_count": 206,
   "metadata": {},
   "outputs": [
    {
     "name": "stdout",
     "output_type": "stream",
     "text": [
      "\n",
      "================================\n",
      "SVM Exercise\n",
      "================================\n",
      "\n",
      "A tutorial exercise for using different SVM kernels.\n",
      "\n",
      "This exercise is used in the :ref:`using_kernels_tut` part of the\n",
      ":ref:`supervised_learning_tut` section of the :ref:`stat_learn_tut_index`.\n",
      "\n",
      "0.744444444444\n",
      "0.777777777778\n",
      "0.711111111111\n"
     ]
    },
    {
     "data": {
      "image/png": "[encoded data removed]",
      "text/plain": [
       "<matplotlib.figure.Figure at 0x1a211f7890>"
      ]
     },
     "metadata": {},
     "output_type": "display_data"
    },
    {
     "data": {
      "image/png": "[encoded data removed]",
      "text/plain": [
       "<matplotlib.figure.Figure at 0x116c59f90>"
      ]
     },
     "metadata": {},
     "output_type": "display_data"
    },
    {
     "data": {
      "image/png": "[encoded data removed]",
      "text/plain": [
       "<matplotlib.figure.Figure at 0x1a23068450>"
      ]
     },
     "metadata": {},
     "output_type": "display_data"
    }
   ],
   "source": [
    "# %load /Users/mshevelev/Downloads/aduenko_ml/sklearn/plot_iris_exercise.py\n",
    "\"\"\"\n",
    "================================\n",
    "SVM Exercise\n",
    "================================\n",
    "\n",
    "A tutorial exercise for using different SVM kernels.\n",
    "\n",
    "This exercise is used in the :ref:`using_kernels_tut` part of the\n",
    ":ref:`supervised_learning_tut` section of the :ref:`stat_learn_tut_index`.\n",
    "\"\"\"\n",
    "print(__doc__)\n",
    "\n",
    "\n",
    "import numpy as np\n",
    "import matplotlib.pyplot as plt\n",
    "from sklearn import datasets, svm\n",
    "\n",
    "iris = datasets.load_iris()\n",
    "X = iris.data\n",
    "y = iris.target\n",
    "\n",
    "X = X[y != 0, :2]\n",
    "y = y[y != 0]\n",
    "\n",
    "n_sample = len(X)\n",
    "\n",
    "np.random.seed(0)\n",
    "order = np.random.permutation(n_sample)\n",
    "X = X[order]\n",
    "y = y[order].astype(np.float)\n",
    "\n",
    "X_train = X[:int(.9 * n_sample)]\n",
    "y_train = y[:int(.9 * n_sample)]\n",
    "X_test = X[int(.9 * n_sample):]\n",
    "y_test = y[int(.9 * n_sample):]\n",
    "\n",
    "\n",
    "# fit the model\n",
    "for fig_num, kernel in enumerate(('linear', 'rbf', 'poly')):\n",
    "    clf = svm.SVC(kernel=kernel, gamma=10)\n",
    "    clf.fit(X_train, y_train)\n",
    "\n",
    "    plt.figure(fig_num)\n",
    "    plt.clf()\n",
    "    plt.scatter(X[:, 0], X[:, 1], c=y, zorder=10, cmap=plt.cm.Paired,\n",
    "                edgecolor='k', s=20)\n",
    "\n",
    "    # Circle out the test data\n",
    "    plt.scatter(X_test[:, 0], X_test[:, 1], s=80, facecolors='none',\n",
    "                zorder=10, edgecolor='k')\n",
    "\n",
    "    plt.axis('tight')\n",
    "    x_min = X[:, 0].min()\n",
    "    x_max = X[:, 0].max()\n",
    "    y_min = X[:, 1].min()\n",
    "    y_max = X[:, 1].max()\n",
    "\n",
    "    XX, YY = np.mgrid[x_min:x_max:200j, y_min:y_max:200j]\n",
    "    \n",
    "    Z = clf.decision_function(np.c_[XX.ravel(), YY.ravel()])\n",
    "    \n",
    "    # Put the result into a color plot\n",
    "    Z = Z.reshape(XX.shape)\n",
    "    plt.pcolormesh(XX, YY, Z > 0, cmap=plt.cm.Paired)\n",
    "#     plt.contour(XX, YY, Z, colors=['k', 'k', 'k'],\n",
    "#                 linestyles=['--', '-', '--'], levels=[-.5, 0, .5])\n",
    "\n",
    "#     plt.title(kernel)\n",
    "    print clf.score(X_train, y_train)\n",
    "plt.show()\n"
   ]
  },
  {
   "cell_type": "code",
   "execution_count": 199,
   "metadata": {},
   "outputs": [
    {
     "data": {
      "text/plain": [
       "array([-140.241768])"
      ]
     },
     "execution_count": 199,
     "metadata": {},
     "output_type": "execute_result"
    }
   ],
   "source": [
    "clf.decision_function([[1,2]])"
   ]
  },
  {
   "cell_type": "markdown",
   "metadata": {},
   "source": [
    "### K-fold CV"
   ]
  },
  {
   "cell_type": "code",
   "execution_count": 247,
   "metadata": {},
   "outputs": [],
   "source": [
    "svc = svm.SVC(C=0.1, kernel='linear')"
   ]
  },
  {
   "cell_type": "code",
   "execution_count": 277,
   "metadata": {},
   "outputs": [
    {
     "name": "stdout",
     "output_type": "stream",
     "text": [
      "[0.0, 0.0, 0.0]\n"
     ]
    }
   ],
   "source": [
    "from sklearn import datasets, svm\n",
    "digits = datasets.load_iris()\n",
    "X_digits = digits.data\n",
    "y_digits = digits.target\n",
    "\n",
    "K = 3\n",
    "X_folds = np.array_split(X_digits, K)\n",
    "y_folds = np.array_split(y_digits, K)\n",
    "\n",
    "scores = list()\n",
    "for k in range(K):\n",
    "    X_train = list(X_folds)\n",
    "    X_test = X_train.pop(k)\n",
    "    X_train = np.concatenate(X_train)\n",
    "    y_train = list(y_folds)\n",
    "    y_test = y_train.pop(k)\n",
    "    y_train = np.concatenate(y_train)\n",
    "    svc.fit(X_train, y_train)\n",
    "    predicted = svc.predict(X_test)\n",
    "    scores.append(svc.score(X_test, y_test))\n",
    "    \n",
    "print scores\n"
   ]
  },
  {
   "cell_type": "code",
   "execution_count": 294,
   "metadata": {},
   "outputs": [
    {
     "name": "stdout",
     "output_type": "stream",
     "text": [
      "[0.94117647058823528, 1.0, 0.97916666666666663]\n",
      "CPU times: user 2.8 ms, sys: 187 µs, total: 2.99 ms\n",
      "Wall time: 2.75 ms\n"
     ]
    }
   ],
   "source": [
    "%%time \n",
    "from sklearn import model_selection\n",
    "kfold = model_selection.StratifiedKFold(n_splits=K, shuffle=True)\n",
    "scores = []\n",
    "for ix_train, ix_test in kfold.split(X_digits, y_digits):\n",
    "    score = svc.fit(X_digits[ix_train], y_digits[ix_train]).score(X_digits[ix_test], y_digits[ix_test])\n",
    "    scores.append(score)\n",
    "\n",
    "print scores\n",
    "    \n",
    "#[svc.fit(X_digits[train], y_digits[train]).score(X_digits[test], y_digits[test])\n",
    "#         for train, test in model_selection.k_fol.split(X_digits)]"
   ]
  },
  {
   "cell_type": "code",
   "execution_count": 283,
   "metadata": {},
   "outputs": [
    {
     "name": "stdout",
     "output_type": "stream",
     "text": [
      "CPU times: user 60.9 ms, sys: 24.4 ms, total: 85.3 ms\n",
      "Wall time: 172 ms\n"
     ]
    },
    {
     "data": {
      "text/plain": [
       "array([ 0.94117647,  0.92156863,  1.        ])"
      ]
     },
     "execution_count": 283,
     "metadata": {},
     "output_type": "execute_result"
    }
   ],
   "source": [
    "%%time \n",
    "model_selection.cross_val_score(svc, X_digits, y_digits, cv=kfold, n_jobs=3, )"
   ]
  },
  {
   "cell_type": "markdown",
   "metadata": {},
   "source": [
    "#### Excercise"
   ]
  },
  {
   "cell_type": "code",
   "execution_count": 318,
   "metadata": {},
   "outputs": [
    {
     "name": "stdout",
     "output_type": "stream",
     "text": [
      "[0.09849749582637729, 0.09849749582637729, 0.09849749582637729, 0.09849749582637729, 0.09849749582637729, 0.89816360601001666, 0.93155258764607685, 0.93823038397328884, 0.93989983305509184, 0.93989983305509184]\n"
     ]
    },
    {
     "data": {
      "text/plain": [
       "<matplotlib.legend.Legend at 0x1170a54d0>"
      ]
     },
     "execution_count": 318,
     "metadata": {},
     "output_type": "execute_result"
    },
    {
     "data": {
      "image/png": "[encoded data removed]",
      "text/plain": [
       "<matplotlib.figure.Figure at 0x1a22e46190>"
      ]
     },
     "metadata": {},
     "output_type": "display_data"
    }
   ],
   "source": [
    "import numpy as np\n",
    "from sklearn.model_selection import cross_val_score\n",
    "from sklearn import datasets, svm\n",
    "\n",
    "digits = datasets.load_digits()\n",
    "X = digits.data\n",
    "y = digits.target\n",
    "\n",
    "svc = svm.SVC(kernel='linear')\n",
    "C_s = np.logspace(-10, 0, 10)\n",
    "\n",
    "K = 3\n",
    "X_train, X_test, y_train, y_test = model_selection.train_test_split(X, y, test_size=1./K, shuffle=False)\n",
    "scores0 = [svc.set_params(C=C).fit(X_train, y_train).score(X_test, y_test) for C in C_s]\n",
    "#plt.plot(scores0, label=\"train_test_split\")\n",
    "\n",
    "print scores0\n",
    "\n",
    "kfold = model_selection.KFold(n_splits=5, shuffle=True)\n",
    "scores = []\n",
    "for C in C_s:\n",
    "    svc.set_params(C=C)\n",
    "    score = model_selection.cross_val_score(svc, X, y, cv=kfold)\n",
    "#    print score\n",
    "    scores.append(score)\n",
    "scores = np.array(scores)\n",
    "plt.plot(scores.mean(1), label=\"Kfold\")\n",
    "plt.plot(scores.mean(1) + scores.std(1), \"b--\", label=\"Kfold\")\n",
    "plt.plot(scores.mean(1) - scores.std(1), \"b--\", label=\"Kfold\")\n",
    "\n",
    "#plt.plot(scores0 - scores.mean(1), label=\"diff\")\n",
    "plt.legend()\n"
   ]
  },
  {
   "cell_type": "code",
   "execution_count": 340,
   "metadata": {},
   "outputs": [
    {
     "name": "stdout",
     "output_type": "stream",
     "text": [
      "0.984140233723\n",
      "0.00774263682681\n",
      "0.978297161937\n",
      "CPU times: user 655 ms, sys: 125 ms, total: 780 ms\n",
      "Wall time: 6.66 s\n"
     ]
    }
   ],
   "source": [
    "%%time\n",
    "from sklearn.model_selection import GridSearchCV, cross_val_score\n",
    "\n",
    "X_train, X_test, y_train, y_test = model_selection.train_test_split(X, y, test_size=1./K, shuffle=True)\n",
    "kfold = model_selection.StratifiedKFold(n_splits=20, shuffle=True)\n",
    "\n",
    "Cs = np.logspace(-6, -1, 10)\n",
    "clf = GridSearchCV(estimator=svc, param_grid=dict(C=Cs), cv=kfold,\n",
    "                   n_jobs=-1, )\n",
    "\n",
    "\n",
    "clf.fit(X_train, y_train)        \n",
    "\n",
    "print clf.best_score_                                  \n",
    "\n",
    "print clf.best_estimator_.C                            \n",
    "\n",
    "\n",
    "# Prediction performance on test set is not as good as on train set\n",
    "print clf.score(X_test, y_test) "
   ]
  },
  {
   "cell_type": "code",
   "execution_count": 341,
   "metadata": {},
   "outputs": [],
   "source": [
    "import sklearn.metrics"
   ]
  },
  {
   "cell_type": "code",
   "execution_count": 342,
   "metadata": {},
   "outputs": [
    {
     "data": {
      "text/plain": [
       "{'accuracy': make_scorer(accuracy_score),\n",
       " 'adjusted_mutual_info_score': make_scorer(adjusted_mutual_info_score),\n",
       " 'adjusted_rand_score': make_scorer(adjusted_rand_score),\n",
       " 'average_precision': make_scorer(average_precision_score, needs_threshold=True),\n",
       " 'completeness_score': make_scorer(completeness_score),\n",
       " 'explained_variance': make_scorer(explained_variance_score),\n",
       " 'f1': make_scorer(f1_score),\n",
       " 'f1_macro': make_scorer(f1_score, average=macro, pos_label=None),\n",
       " 'f1_micro': make_scorer(f1_score, average=micro, pos_label=None),\n",
       " 'f1_samples': make_scorer(f1_score, average=samples, pos_label=None),\n",
       " 'f1_weighted': make_scorer(f1_score, average=weighted, pos_label=None),\n",
       " 'fowlkes_mallows_score': make_scorer(fowlkes_mallows_score),\n",
       " 'homogeneity_score': make_scorer(homogeneity_score),\n",
       " 'log_loss': make_scorer(log_loss, greater_is_better=False, needs_proba=True),\n",
       " 'mean_absolute_error': make_scorer(mean_absolute_error, greater_is_better=False),\n",
       " 'mean_squared_error': make_scorer(mean_squared_error, greater_is_better=False),\n",
       " 'median_absolute_error': make_scorer(median_absolute_error, greater_is_better=False),\n",
       " 'mutual_info_score': make_scorer(mutual_info_score),\n",
       " 'neg_log_loss': make_scorer(log_loss, greater_is_better=False, needs_proba=True),\n",
       " 'neg_mean_absolute_error': make_scorer(mean_absolute_error, greater_is_better=False),\n",
       " 'neg_mean_squared_error': make_scorer(mean_squared_error, greater_is_better=False),\n",
       " 'neg_mean_squared_log_error': make_scorer(mean_squared_log_error, greater_is_better=False),\n",
       " 'neg_median_absolute_error': make_scorer(median_absolute_error, greater_is_better=False),\n",
       " 'normalized_mutual_info_score': make_scorer(normalized_mutual_info_score),\n",
       " 'precision': make_scorer(precision_score),\n",
       " 'precision_macro': make_scorer(precision_score, average=macro, pos_label=None),\n",
       " 'precision_micro': make_scorer(precision_score, average=micro, pos_label=None),\n",
       " 'precision_samples': make_scorer(precision_score, average=samples, pos_label=None),\n",
       " 'precision_weighted': make_scorer(precision_score, average=weighted, pos_label=None),\n",
       " 'r2': make_scorer(r2_score),\n",
       " 'recall': make_scorer(recall_score),\n",
       " 'recall_macro': make_scorer(recall_score, average=macro, pos_label=None),\n",
       " 'recall_micro': make_scorer(recall_score, average=micro, pos_label=None),\n",
       " 'recall_samples': make_scorer(recall_score, average=samples, pos_label=None),\n",
       " 'recall_weighted': make_scorer(recall_score, average=weighted, pos_label=None),\n",
       " 'roc_auc': make_scorer(roc_auc_score, needs_threshold=True),\n",
       " 'v_measure_score': make_scorer(v_measure_score)}"
      ]
     },
     "execution_count": 342,
     "metadata": {},
     "output_type": "execute_result"
    }
   ],
   "source": [
    "sklearn.metrics.SCORERS"
   ]
  },
  {
   "cell_type": "code",
   "execution_count": null,
   "metadata": {},
   "outputs": [],
   "source": []
  }
 ],
 "metadata": {
  "kernelspec": {
   "display_name": "Python 2",
   "language": "python",
   "name": "python2"
  },
  "language_info": {
   "codemirror_mode": {
    "name": "ipython",
    "version": 2
   },
   "file_extension": ".py",
   "mimetype": "text/x-python",
   "name": "python",
   "nbconvert_exporter": "python",
   "pygments_lexer": "ipython2",
   "version": "2.7.14"
  }
 },
 "nbformat": 4,
 "nbformat_minor": 2
}
