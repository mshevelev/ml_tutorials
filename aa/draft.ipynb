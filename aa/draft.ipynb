{
 "cells": [
  {
   "cell_type": "code",
   "execution_count": 2,
   "metadata": {},
   "outputs": [],
   "source": [
    "from scipy.stats import norm\n",
    "import matplotlib.pyplot as plt\n",
    "import numpy as np\n",
    "\n",
    "%matplotlib inline"
   ]
  },
  {
   "cell_type": "code",
   "execution_count": 1,
   "metadata": {},
   "outputs": [],
   "source": [
    "from sklearn.linear_model import LogisticRegression"
   ]
  },
  {
   "cell_type": "code",
   "execution_count": 92,
   "metadata": {},
   "outputs": [
    {
     "data": {
      "text/plain": [
       "4.713070570629082e-51"
      ]
     },
     "execution_count": 92,
     "metadata": {},
     "output_type": "execute_result"
    }
   ],
   "source": [
    "from scipy.special import beta\n",
    "\n",
    "beta(6+1, 106+1) * beta(30+1, 184+1)"
   ]
  },
  {
   "cell_type": "code",
   "execution_count": 81,
   "metadata": {},
   "outputs": [],
   "source": [
    "coef = np.array([-3, 1])\n",
    "X = np.random.randn(1000, 2)\n",
    "y = np.dot(X, coef) > 0"
   ]
  },
  {
   "cell_type": "code",
   "execution_count": 82,
   "metadata": {},
   "outputs": [
    {
     "data": {
      "text/plain": [
       "[<matplotlib.lines.Line2D at 0x15756358>]"
      ]
     },
     "execution_count": 82,
     "metadata": {},
     "output_type": "execute_result"
    },
    {
     "data": {
      "image/png": "[encoded data removed]",
      "text/plain": [
       "<matplotlib.figure.Figure at 0x157562e8>"
      ]
     },
     "metadata": {},
     "output_type": "display_data"
    }
   ],
   "source": [
    "plt.scatter(X[:,0], X[:, 1], c=y)\n",
    "plt.plot(plt.xlim(),  3. *np.array(plt.xlim()))"
   ]
  },
  {
   "cell_type": "code",
   "execution_count": 83,
   "metadata": {},
   "outputs": [
    {
     "name": "stdout",
     "output_type": "stream",
     "text": [
      "[[-0.29422648  0.08724061]]\n",
      "0.976\n"
     ]
    }
   ],
   "source": [
    "reg = LogisticRegression(C=1e-3, tol=1e-4, max_iter=200)\n",
    "reg.fit(X, y)\n",
    "print reg.coef_\n",
    "print reg.score(X,y)"
   ]
  },
  {
   "cell_type": "code",
   "execution_count": 84,
   "metadata": {},
   "outputs": [
    {
     "data": {
      "text/plain": [
       "(array([ 15.,  37., 144., 193., 249., 194., 108.,  49.,   9.,   2.]),\n",
       " array([0.29472382, 0.33944495, 0.38416608, 0.42888721, 0.47360835,\n",
       "        0.51832948, 0.56305061, 0.60777174, 0.65249287, 0.697214  ,\n",
       "        0.74193513]),\n",
       " <a list of 10 Patch objects>)"
      ]
     },
     "execution_count": 84,
     "metadata": {},
     "output_type": "execute_result"
    },
    {
     "data": {
      "image/png": "[encoded data removed]",
      "text/plain": [
       "<matplotlib.figure.Figure at 0x157f7390>"
      ]
     },
     "metadata": {},
     "output_type": "display_data"
    }
   ],
   "source": [
    "plt.hist(reg.predict_proba(X)[:,0])"
   ]
  },
  {
   "cell_type": "code",
   "execution_count": 11,
   "metadata": {},
   "outputs": [
    {
     "name": "stdout",
     "output_type": "stream",
     "text": [
      "1.34897950039\n"
     ]
    }
   ],
   "source": [
    "iqr = norm.ppf(0.75) - norm.ppf(0.25)\n",
    "print iqr"
   ]
  },
  {
   "cell_type": "code",
   "execution_count": 18,
   "metadata": {},
   "outputs": [
    {
     "name": "stdout",
     "output_type": "stream",
     "text": [
      "2.69795900078\n",
      "0.993023396761\n"
     ]
    }
   ],
   "source": [
    "right_whisker = norm.ppf(0.75) + 1.5 * iqr\n",
    "left_whisker = norm.ppf(0.25) - 1.5 * iqr\n",
    "\n",
    "print right_whisker\n",
    "print norm.cdf(right_whisker) - norm.cdf(left_whisker)"
   ]
  },
  {
   "cell_type": "code",
   "execution_count": 9,
   "metadata": {},
   "outputs": [
    {
     "name": "stdout",
     "output_type": "stream",
     "text": [
      "1.01173462529\n",
      "1.01173462529\n"
     ]
    }
   ],
   "source": [
    "print scipy.stats.norm.ppf(0.84416752237687942)\n",
    "print 1.5 * scipy.stats.norm.ppf(0.75)"
   ]
  },
  {
   "cell_type": "code",
   "execution_count": 38,
   "metadata": {},
   "outputs": [
    {
     "data": {
      "text/plain": [
       "array([ 0.71299388,  0.66626528,  0.67448975,  0.67448975,  0.66626528,\n",
       "        0.71299388])"
      ]
     },
     "execution_count": 38,
     "metadata": {},
     "output_type": "execute_result"
    }
   ],
   "source": [
    "np.diff(norm.ppf([0.02,0.09, 0.25, 0.5, 0.75, 0.91, 0.98]))"
   ]
  },
  {
   "cell_type": "code",
   "execution_count": 17,
   "metadata": {},
   "outputs": [
    {
     "data": {
      "text/plain": [
       "18.0"
      ]
     },
     "execution_count": 17,
     "metadata": {},
     "output_type": "execute_result"
    }
   ],
   "source": [
    "(19-15) * 0.75 + 15"
   ]
  },
  {
   "cell_type": "code",
   "execution_count": 42,
   "metadata": {},
   "outputs": [
    {
     "data": {
      "text/plain": [
       "{'boxes': [<matplotlib.lines.Line2D at 0xbc5af28>],\n",
       " 'caps': [<matplotlib.lines.Line2D at 0xbc697f0>,\n",
       "  <matplotlib.lines.Line2D at 0xbc69b70>],\n",
       " 'fliers': [<matplotlib.lines.Line2D at 0xbc762b0>],\n",
       " 'means': [],\n",
       " 'medians': [<matplotlib.lines.Line2D at 0xbc69ef0>],\n",
       " 'whiskers': [<matplotlib.lines.Line2D at 0xbc69048>,\n",
       "  <matplotlib.lines.Line2D at 0xbc69470>]}"
      ]
     },
     "execution_count": 42,
     "metadata": {},
     "output_type": "execute_result"
    },
    {
     "data": {
      "image/png": "[encoded data removed]",
      "text/plain": [
       "<matplotlib.figure.Figure at 0xb9d0908>"
      ]
     },
     "metadata": {},
     "output_type": "display_data"
    }
   ],
   "source": [
    "x = np.random.randn(1000)\n",
    "x = np.append(x, [7, 8]*10)\n",
    "plt.boxplot(x, vert=False, notch=True)"
   ]
  },
  {
   "cell_type": "code",
   "execution_count": null,
   "metadata": {},
   "outputs": [],
   "source": []
  }
 ],
 "metadata": {
  "kernelspec": {
   "display_name": "Python 2",
   "language": "python",
   "name": "python2"
  },
  "language_info": {
   "codemirror_mode": {
    "name": "ipython",
    "version": 2
   },
   "file_extension": ".py",
   "mimetype": "text/x-python",
   "name": "python",
   "nbconvert_exporter": "python",
   "pygments_lexer": "ipython2",
   "version": "2.7.14"
  }
 },
 "nbformat": 4,
 "nbformat_minor": 2
}
