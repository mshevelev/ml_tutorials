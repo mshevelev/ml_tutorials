{
 "cells": [
  {
   "cell_type": "code",
   "execution_count": 33,
   "metadata": {},
   "outputs": [],
   "source": [
    "import os\n",
    "from collections import OrderedDict\n",
    "\n",
    "import numpy as np\n",
    "import pandas as pd\n",
    "import matplotlib as plt\n",
    "import seaborn as sns\n",
    "\n",
    "pd.options.display.width = 300\n",
    "pd.options.display.float_format = \"{:.3f}\".format\n",
    "\n",
    "%matplotlib inline"
   ]
  },
  {
   "cell_type": "code",
   "execution_count": 7,
   "metadata": {},
   "outputs": [],
   "source": [
    "from scipy import stats\n",
    "\n",
    "from sklearn import model_selection\n",
    "from sklearn import preprocessing\n",
    "from sklearn import pipeline\n",
    "from sklearn import metrics        # roc_curve, roc_auc_score, auc, confusion_matrix, make_scorer"
   ]
  },
  {
   "cell_type": "code",
   "execution_count": 8,
   "metadata": {},
   "outputs": [],
   "source": [
    "from sklearn import dummy\n",
    "from sklearn import linear_model\n",
    "from sklearn import svm\n",
    "from sklearn import ensemble\n",
    "from sklearn import neighbors\n",
    "from sklearn import naive_bayes\n",
    "\n",
    "from sklearn import decomposition # PCA"
   ]
  },
  {
   "cell_type": "code",
   "execution_count": 10,
   "metadata": {},
   "outputs": [
    {
     "name": "stdout",
     "output_type": "stream",
     "text": [
      "/Users/mshevelev/git/ml_tutorials/aa/mipt\n"
     ]
    }
   ],
   "source": []
  },
  {
   "cell_type": "code",
   "execution_count": null,
   "metadata": {},
   "outputs": [],
   "source": [
    "%% bash\n",
    "\n",
    "ls -ltr /Users/mshevelev/git/ml_tutorials/aa/mipt/data/task1"
   ]
  },
  {
   "cell_type": "code",
   "execution_count": 55,
   "metadata": {},
   "outputs": [],
   "source": [
    "def add_column(X, y):\n",
    "    return pd.concat([X, y], axis='columns')\n",
    "\n",
    "def load_task_input(dataset_id, base_dir=None):\n",
    "    if base_dir is None:\n",
    "        base_dir = os.path.join(os.getcwd(), \"data/task1\")\n",
    "    df_X_train = pd.read_csv(os.path.join(base_dir, \"task1_%d_learn_X.csv\" % dataset_id), sep=\" \", header=None)\n",
    "    df_y_train = pd.read_csv(os.path.join(base_dir, \"task1_%d_learn_y.csv\" % dataset_id), sep=\" \", header=None, squeeze=True, names=[\"y\"])\n",
    "    df_X_test  = pd.read_csv(os.path.join(base_dir, \"task1_%d_test_X.csv\" % dataset_id) , sep=\" \", header=None)\n",
    "    df_X_train.columns = [\"X%02d\" % (col+1) for col in df_X_train.columns]\n",
    "    df_X_test.columns = [\"X%d\" % (col+1) for col in df_X_test.columns]\n",
    "\n",
    "    assert df_X_train.shape[1] == df_X_test.shape[1]\n",
    "    assert df_X_train.shape[0] == df_y_train.shape[0]\n",
    "    \n",
    "    data = OrderedDict()\n",
    "    data[\"X_train\"] = df_X_train\n",
    "    data[\"y_train\"] = df_y_train\n",
    "    data[\"X_test\"]  = df_X_test\n",
    "\n",
    "#    data[\"Xy\"] = pd.concat([data[\"X\"], data[\"y\"]], axis='columns')\n",
    "#    assert data[\"X\"].shape[0] == data[\"y\"].shape[0]\n",
    "#    assert data[\"X\"].shape[1] == data[\"X_test\"].shape[1]    \n",
    "    print \"train:\", data[\"X_train\"].shape\n",
    "    print \"test :\", data[\"X_test\"].shape[0]\n",
    "\n",
    "    return data\n",
    "  \n",
    "\n",
    "def save_task_result(dataset_id, df_answers, base_dir=None):\n",
    "    if base_dir is None:\n",
    "        base_dir = os.path.join(os.getcwd(), \"answers/task1\")\n",
    "    if not os.path.exists(base_dir):\n",
    "        os.makedirs(base_dir)\n",
    "    out_path = os.path.join(base_dir, \"task1_%d_ans.csv\" % dataset_id)\n",
    "    df_answers.to_csv(out_path, index=False, sep=',')\n",
    "\n",
    "def build_dataframe_with_answers(auc, num, asy1, asy2):\n",
    "    df = pd.DataFrame({\n",
    "        \"AUC\": auc,\n",
    "        \"NUM\": num,\n",
    "#        \"ASY1\": asy1,\n",
    "#        \"ASY2\": asy2\n",
    "        \"ASY1\": LossASY(ASY1),\n",
    "        \"ASY2\": LossASY(ASY2),\n",
    "    })\n",
    "    return df\n",
    "\n"
   ]
  },
  {
   "cell_type": "code",
   "execution_count": 56,
   "metadata": {},
   "outputs": [
    {
     "name": "stdout",
     "output_type": "stream",
     "text": [
      "train: (300000, 100)\n",
      "test : 10000\n"
     ]
    }
   ],
   "source": [
    "data = load_task_input(14)"
   ]
  },
  {
   "cell_type": "code",
   "execution_count": 54,
   "metadata": {},
   "outputs": [
    {
     "name": "stdout",
     "output_type": "stream",
     "text": [
      "> \u001b[0;32m<ipython-input-34-245ad942ec91>\u001b[0m(14)\u001b[0;36mload_task_input\u001b[0;34m()\u001b[0m\n",
      "\u001b[0;32m     12 \u001b[0;31m\u001b[0;34m\u001b[0m\u001b[0m\n",
      "\u001b[0m\u001b[0;32m     13 \u001b[0;31m    \u001b[0;32massert\u001b[0m \u001b[0mdf_X_train\u001b[0m\u001b[0;34m.\u001b[0m\u001b[0mshape\u001b[0m\u001b[0;34m[\u001b[0m\u001b[0;36m1\u001b[0m\u001b[0;34m]\u001b[0m \u001b[0;34m==\u001b[0m \u001b[0mdf_X_test\u001b[0m\u001b[0;34m.\u001b[0m\u001b[0mshape\u001b[0m\u001b[0;34m[\u001b[0m\u001b[0;36m1\u001b[0m\u001b[0;34m]\u001b[0m\u001b[0;34m\u001b[0m\u001b[0m\n",
      "\u001b[0m\u001b[0;32m---> 14 \u001b[0;31m    \u001b[0;32massert\u001b[0m \u001b[0mdf_X_train\u001b[0m\u001b[0;34m.\u001b[0m\u001b[0mshape\u001b[0m\u001b[0;34m[\u001b[0m\u001b[0;36m0\u001b[0m\u001b[0;34m]\u001b[0m \u001b[0;34m==\u001b[0m \u001b[0mdf_y\u001b[0m\u001b[0;34m.\u001b[0m\u001b[0mshape\u001b[0m\u001b[0;34m[\u001b[0m\u001b[0;36m0\u001b[0m\u001b[0;34m]\u001b[0m\u001b[0;34m\u001b[0m\u001b[0m\n",
      "\u001b[0m\u001b[0;32m     15 \u001b[0;31m\u001b[0;34m\u001b[0m\u001b[0m\n",
      "\u001b[0m\u001b[0;32m     16 \u001b[0;31m    \u001b[0mdata\u001b[0m \u001b[0;34m=\u001b[0m \u001b[0mOrderedDict\u001b[0m\u001b[0;34m(\u001b[0m\u001b[0;34m)\u001b[0m\u001b[0;34m\u001b[0m\u001b[0m\n",
      "\u001b[0m\n"
     ]
    },
    {
     "name": "stdin",
     "output_type": "stream",
     "text": [
      "ipdb>  q\n"
     ]
    }
   ],
   "source": [
    "%debug"
   ]
  },
  {
   "cell_type": "code",
   "execution_count": 27,
   "metadata": {},
   "outputs": [
    {
     "ename": "AttributeError",
     "evalue": "'tuple' object has no attribute 'keys'",
     "output_type": "error",
     "traceback": [
      "\u001b[0;31m\u001b[0m",
      "\u001b[0;31mAttributeError\u001b[0mTraceback (most recent call last)",
      "\u001b[0;32m<ipython-input-27-43ebc71570da>\u001b[0m in \u001b[0;36m<module>\u001b[0;34m()\u001b[0m\n\u001b[0;32m----> 1\u001b[0;31m \u001b[0mdata\u001b[0m\u001b[0;34m.\u001b[0m\u001b[0mkeys\u001b[0m\u001b[0;34m(\u001b[0m\u001b[0;34m)\u001b[0m\u001b[0;34m\u001b[0m\u001b[0m\n\u001b[0m",
      "\u001b[0;31mAttributeError\u001b[0m: 'tuple' object has no attribute 'keys'"
     ]
    }
   ],
   "source": [
    "data.keys()"
   ]
  },
  {
   "cell_type": "code",
   "execution_count": null,
   "metadata": {},
   "outputs": [],
   "source": []
  },
  {
   "cell_type": "code",
   "execution_count": null,
   "metadata": {},
   "outputs": [],
   "source": []
  },
  {
   "cell_type": "code",
   "execution_count": 14,
   "metadata": {},
   "outputs": [
    {
     "name": "stderr",
     "output_type": "stream",
     "text": [
      "ls: /Users/mshevelev/git/ml_tutorials/aa/mipt/task1/data: No such file or directory\n"
     ]
    }
   ],
   "source": [
    "%%bash\n",
    "\n",
    "ls -l /Users/mshevelev/git/ml_tutorials/aa/mipt/data/task1/"
   ]
  },
  {
   "cell_type": "code",
   "execution_count": null,
   "metadata": {},
   "outputs": [],
   "source": []
  },
  {
   "cell_type": "code",
   "execution_count": null,
   "metadata": {},
   "outputs": [],
   "source": []
  }
 ],
 "metadata": {
  "kernelspec": {
   "display_name": "Python 2",
   "language": "python",
   "name": "python2"
  },
  "language_info": {
   "codemirror_mode": {
    "name": "ipython",
    "version": 2
   },
   "file_extension": ".py",
   "mimetype": "text/x-python",
   "name": "python",
   "nbconvert_exporter": "python",
   "pygments_lexer": "ipython2",
   "version": "2.7.14"
  }
 },
 "nbformat": 4,
 "nbformat_minor": 2
}
