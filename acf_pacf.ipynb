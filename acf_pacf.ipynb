{
 "cells": [
  {
   "cell_type": "code",
   "execution_count": 36,
   "metadata": {},
   "outputs": [],
   "source": [
    "import numpy as np\n",
    "import pandas as pd\n",
    "pd.options.display.width = 400\n",
    "import matplotlib.pyplot as plt\n",
    "%matplotlib inline"
   ]
  },
  {
   "cell_type": "code",
   "execution_count": 37,
   "metadata": {},
   "outputs": [],
   "source": [
    "from statsmodels.tsa.arima_process import arma_generate_sample\n",
    "from statsmodels.graphics.tsaplots import plot_acf, plot_pacf\n",
    "from statsmodels.tsa.stattools import acf, pacf\n",
    "\n",
    "from sklearn.linear_model import LinearRegression"
   ]
  },
  {
   "cell_type": "code",
   "execution_count": null,
   "metadata": {},
   "outputs": [],
   "source": []
  },
  {
   "cell_type": "code",
   "execution_count": 64,
   "metadata": {},
   "outputs": [],
   "source": [
    "def orthogonalize_to_single_vector(y, x):\n",
    "    \"\"\"Orthogonalize y to x\"\"\"    \n",
    "    beta = np.cov(y, x)[0, 1] / np.cov(x, x)[0, 1]\n",
    "    y_ort = y - x * beta\n",
    "    return y_ort\n",
    "\n",
    "def ortogonalize_to_multiple_vectors(y, X):\n",
    "    \"\"\"Orthogonalize y to columns of X\"\"\"\n",
    "    if X.shape[1] == 0:\n",
    "        return y\n",
    "    reg = LinearRegression()\n",
    "    reg.fit(X, y)\n",
    "    y_ort = y - reg.predict(X)\n",
    "    assert np.abs(y_ort.sum()) < 1e-4, \"sum of errors must be zero\"\n",
    "    return y_ort\n",
    "    \n",
    "\n",
    "def compute_pacf_1(y, x, Z):\n",
    "    \"\"\"using LinearRegression\"\"\"\n",
    "    y_ort = ortogonalize_to_multiple_vectors(y, Z)\n",
    "    x_ort = ortogonalize_to_multiple_vectors(x, Z)\n",
    "    res = np.corrcoef(x_ort, y_ort)[0, 1]\n",
    "    return res\n",
    "\n",
    "def compute_pacf_2(y, x, Z):\n",
    "    \"\"\"using Gram-Schmidt\"\"\"\n",
    "    Z = Z.copy()\n",
    "    y_ort = y\n",
    "    x_ort = x\n",
    "    M = len(Z.columns)\n",
    "    for i in range(M):\n",
    "        z = Z[Z.columns[i]]\n",
    "        for j in range(i+1, M):\n",
    "            Z[Z.columns[j]] = orthogonalize_to_single_vector(Z[Z.columns[j]], z)\n",
    "        y_ort = orthogonalize_to_single_vector(y_ort, z)\n",
    "        x_ort = orthogonalize_to_single_vector(x_ort, z)\n",
    "    return np.corrcoef(x_ort, y_ort)[0, 1]\n",
    "\n",
    "def compute_pacf_3(y, x, Z):\n",
    "    \"\"\"using LinearRegression\"\"\"\n",
    "    reg = LinearRegression()\n",
    "    X = pd.concat([Z, x], axis='columns')\n",
    "    reg.fit(X, y)\n",
    "    return reg.coef_[-1]\n",
    "\n",
    "\n",
    "#pacf(df[\"x4\"], df[\"x1\"], [df[\"x2\"]])"
   ]
  },
  {
   "cell_type": "code",
   "execution_count": 66,
   "metadata": {},
   "outputs": [
    {
     "name": "stdout",
     "output_type": "stream",
     "text": [
      "    acf_lib  pacf_lib  acf_lib_from_X  pacf_lib_from_X''  pacf_my_1  pacf_my_2  pacf_my_3\n",
      "0      1.00      1.00            1.00               1.00       1.00       1.00       1.00\n",
      "1      0.64      0.64            0.64               0.64       0.64       0.64       0.64\n",
      "2     -0.14     -0.94           -0.15              -0.94      -0.93      -0.93      -0.94\n",
      "3     -0.78     -0.10           -0.79              -0.10      -0.11      -0.11      -0.11\n",
      "4     -0.81      0.39           -0.82               0.38       0.36       0.36       0.36\n",
      "5     -0.26     -0.18           -0.26              -0.19      -0.17      -0.17      -0.17\n",
      "6      0.45     -0.09            0.45              -0.09      -0.08      -0.08      -0.08\n",
      "7      0.78      0.11            0.79               0.11       0.09       0.09       0.09\n",
      "8      0.54     -0.01            0.54              -0.01      -0.01      -0.01      -0.01\n",
      "9     -0.08     -0.06           -0.08              -0.06      -0.05      -0.05      -0.05\n",
      "10    -0.60      0.04           -0.60               0.04       0.04       0.04       0.04\n",
      "11    -0.65      0.01           -0.66               0.01       0.00       0.00       0.00\n",
      "12    -0.23     -0.02           -0.23              -0.01      -0.02      -0.02      -0.02\n",
      "13     0.33     -0.09            0.33              -0.09      -0.08      -0.08      -0.08\n",
      "14     0.61     -0.01            0.61               0.00      -0.01      -0.01      -0.01\n",
      "15     0.42      0.02            0.42               0.02       0.02       0.02       0.02\n",
      "16    -0.06     -0.06           -0.06              -0.07      -0.05      -0.05      -0.05\n",
      "17    -0.46      0.04           -0.46               0.05       0.03       0.03       0.04\n",
      "18    -0.50     -0.03           -0.50              -0.03      -0.03      -0.03      -0.03\n",
      "19    -0.17     -0.04           -0.17              -0.04      -0.03      -0.03      -0.03\n",
      "20     0.26      0.05            0.26               0.04       0.03       0.03       0.03\n"
     ]
    },
    {
     "data": {
      "image/png": "[encoded data removed]",
      "text/plain": [
       "<matplotlib.figure.Figure at 0x1c17f70090>"
      ]
     },
     "metadata": {},
     "output_type": "display_data"
    },
    {
     "data": {
      "image/png": "[encoded data removed]",
      "text/plain": [
       "<matplotlib.figure.Figure at 0x1c167b86d0>"
      ]
     },
     "metadata": {},
     "output_type": "display_data"
    }
   ],
   "source": [
    "LAGS=20\n",
    "x = pd.Series(arma_generate_sample([1, -0.7, 0.3, 0.5], [1, 0.5, 0.4], nsample=1000, sigma=1,))\n",
    "x.plot(title=\"ARMA\")\n",
    "\n",
    "df = pd.DataFrame({\n",
    "    \"acf_lib\":  acf(x, nlags=LAGS),\n",
    "    \"pacf_lib\": pacf(x, nlags=LAGS),\n",
    "})\n",
    "\n",
    "# prepare matrix of lagged x\n",
    "X = pd.DataFrame()\n",
    "for lag in range(LAGS+1):\n",
    "    X[lag] = x.shift(lag)\n",
    "X = X.dropna()\n",
    "\n",
    "df[\"acf_lib_from_X\"] = acf(X[0], nlags=LAGS)\n",
    "df[\"pacf_lib_from_X''\"] = pacf(X[0], nlags=LAGS)\n",
    "\n",
    "\n",
    "my_acf = []\n",
    "my_pacf_1 = []\n",
    "my_pacf_2 = []\n",
    "my_pacf_3 = []\n",
    "\n",
    "for lag in range(LAGS+1):\n",
    "#    print X.sum().sum()\n",
    "    my_acf.append(np.corrcoef(X[0], X[lag])[0,1])\n",
    "    Z = X[[l for l in range(1, lag)]]\n",
    "    my_pacf_1.append(compute_pacf_1(X[0], X[lag], Z))\n",
    "    my_pacf_2.append(compute_pacf_2(X[0], X[lag], Z))\n",
    "    my_pacf_3.append(compute_pacf_3(X[0], X[lag], Z))\n",
    "\n",
    "    \n",
    "#df[\"acf_my\"] = my_acf\n",
    "df[\"pacf_my_1\"] = my_pacf_1\n",
    "df[\"pacf_my_2\"] = my_pacf_2\n",
    "df[\"pacf_my_3\"] = my_pacf_3\n",
    "\n",
    "\n",
    "#df[[col for col in df.columns if col.startswith('acf')]].plot(title='acf', kind='bar', width=0.8, grid=True, figsize=(12, 4))\n",
    "df[[col for col in df.columns if col.startswith('pacf')]].plot(title='pacf', kind='bar', width=0.8, grid=True, figsize=(12, 4))\n",
    "\n",
    "print df.to_string(float_format=\"{:.2f}\".format)\n",
    "# #plt.plot(statsmodels.graphics.tsaplots.pacf(x))\n",
    "# f = plt.figure(figsize=(4,6))\n",
    "# axs = f.subplots(2,1)\n",
    "\n",
    "# statsmodels.graphics.tsaplots.plot_acf(x, lags=LAGS, ax=axs[0])\n",
    "# df['acf'].plot(kind='bar', ax=axs[0], color='g')\n",
    "\n",
    "# statsmodels.graphics.tsaplots.plot_pacf(x, lags=LAGS, ax=axs[1])\n",
    "# df['pacf'].plot(kind='bar', ax=axs[1], color='g')\n",
    "\n",
    "# for ax in axs:\n",
    "#     ax.set_yticks(np.linspace(0, 1, 11))\n",
    "#     ax.grid()\n",
    "# f.tight_layout()\n",
    "# pass\n",
    "# #plt.acorr(x)"
   ]
  },
  {
   "cell_type": "code",
   "execution_count": 10,
   "metadata": {},
   "outputs": [
    {
     "name": "stdout",
     "output_type": "stream",
     "text": [
      "> \u001b[0;32m/Users/mshevelev/anaconda2/lib/python2.7/site-packages/pandas/core/computation/expressions.py\u001b[0m(64)\u001b[0;36m_evaluate_standard\u001b[0;34m()\u001b[0m\n",
      "\u001b[0;32m     62 \u001b[0;31m        \u001b[0m_store_test_result\u001b[0m\u001b[0;34m(\u001b[0m\u001b[0mFalse\u001b[0m\u001b[0;34m)\u001b[0m\u001b[0;34m\u001b[0m\u001b[0m\n",
      "\u001b[0m\u001b[0;32m     63 \u001b[0;31m    \u001b[0;32mwith\u001b[0m \u001b[0mnp\u001b[0m\u001b[0;34m.\u001b[0m\u001b[0merrstate\u001b[0m\u001b[0;34m(\u001b[0m\u001b[0mall\u001b[0m\u001b[0;34m=\u001b[0m\u001b[0;34m'ignore'\u001b[0m\u001b[0;34m)\u001b[0m\u001b[0;34m:\u001b[0m\u001b[0;34m\u001b[0m\u001b[0m\n",
      "\u001b[0m\u001b[0;32m---> 64 \u001b[0;31m        \u001b[0;32mreturn\u001b[0m \u001b[0mop\u001b[0m\u001b[0;34m(\u001b[0m\u001b[0ma\u001b[0m\u001b[0;34m,\u001b[0m \u001b[0mb\u001b[0m\u001b[0;34m)\u001b[0m\u001b[0;34m\u001b[0m\u001b[0m\n",
      "\u001b[0m\u001b[0;32m     65 \u001b[0;31m\u001b[0;34m\u001b[0m\u001b[0m\n",
      "\u001b[0m\u001b[0;32m     66 \u001b[0;31m\u001b[0;34m\u001b[0m\u001b[0m\n",
      "\u001b[0m\n",
      "> \u001b[0;32m/Users/mshevelev/anaconda2/lib/python2.7/site-packages/pandas/core/computation/expressions.py\u001b[0m(122)\u001b[0;36m_evaluate_numexpr\u001b[0;34m()\u001b[0m\n",
      "\u001b[0;32m    120 \u001b[0;31m\u001b[0;34m\u001b[0m\u001b[0m\n",
      "\u001b[0m\u001b[0;32m    121 \u001b[0;31m    \u001b[0;32mif\u001b[0m \u001b[0mresult\u001b[0m \u001b[0;32mis\u001b[0m \u001b[0mNone\u001b[0m\u001b[0;34m:\u001b[0m\u001b[0;34m\u001b[0m\u001b[0m\n",
      "\u001b[0m\u001b[0;32m--> 122 \u001b[0;31m        \u001b[0mresult\u001b[0m \u001b[0;34m=\u001b[0m \u001b[0m_evaluate_standard\u001b[0m\u001b[0;34m(\u001b[0m\u001b[0mop\u001b[0m\u001b[0;34m,\u001b[0m \u001b[0mop_str\u001b[0m\u001b[0;34m,\u001b[0m \u001b[0ma\u001b[0m\u001b[0;34m,\u001b[0m \u001b[0mb\u001b[0m\u001b[0;34m,\u001b[0m \u001b[0mraise_on_error\u001b[0m\u001b[0;34m)\u001b[0m\u001b[0;34m\u001b[0m\u001b[0m\n",
      "\u001b[0m\u001b[0;32m    123 \u001b[0;31m\u001b[0;34m\u001b[0m\u001b[0m\n",
      "\u001b[0m\u001b[0;32m    124 \u001b[0;31m    \u001b[0;32mreturn\u001b[0m \u001b[0mresult\u001b[0m\u001b[0;34m\u001b[0m\u001b[0m\n",
      "\u001b[0m\n",
      "> \u001b[0;32m/Users/mshevelev/anaconda2/lib/python2.7/site-packages/pandas/core/computation/expressions.py\u001b[0m(211)\u001b[0;36mevaluate\u001b[0;34m()\u001b[0m\n",
      "\u001b[0;32m    209 \u001b[0;31m    \u001b[0;32mif\u001b[0m \u001b[0muse_numexpr\u001b[0m\u001b[0;34m:\u001b[0m\u001b[0;34m\u001b[0m\u001b[0m\n",
      "\u001b[0m\u001b[0;32m    210 \u001b[0;31m        return _evaluate(op, op_str, a, b, raise_on_error=raise_on_error,\n",
      "\u001b[0m\u001b[0;32m--> 211 \u001b[0;31m                         **eval_kwargs)\n",
      "\u001b[0m\u001b[0;32m    212 \u001b[0;31m    \u001b[0;32mreturn\u001b[0m \u001b[0m_evaluate_standard\u001b[0m\u001b[0;34m(\u001b[0m\u001b[0mop\u001b[0m\u001b[0;34m,\u001b[0m \u001b[0mop_str\u001b[0m\u001b[0;34m,\u001b[0m \u001b[0ma\u001b[0m\u001b[0;34m,\u001b[0m \u001b[0mb\u001b[0m\u001b[0;34m,\u001b[0m \u001b[0mraise_on_error\u001b[0m\u001b[0;34m=\u001b[0m\u001b[0mraise_on_error\u001b[0m\u001b[0;34m)\u001b[0m\u001b[0;34m\u001b[0m\u001b[0m\n",
      "\u001b[0m\u001b[0;32m    213 \u001b[0;31m\u001b[0;34m\u001b[0m\u001b[0m\n",
      "\u001b[0m\n",
      "> \u001b[0;32m/Users/mshevelev/anaconda2/lib/python2.7/site-packages/pandas/core/ops.py\u001b[0m(674)\u001b[0;36mna_op\u001b[0;34m()\u001b[0m\n",
      "\u001b[0;32m    672 \u001b[0;31m                                              op=str_rep))\n",
      "\u001b[0m\u001b[0;32m    673 \u001b[0;31m\u001b[0;34m\u001b[0m\u001b[0m\n",
      "\u001b[0m\u001b[0;32m--> 674 \u001b[0;31m            \u001b[0mresult\u001b[0m\u001b[0;34m,\u001b[0m \u001b[0mchanged\u001b[0m \u001b[0;34m=\u001b[0m \u001b[0mmaybe_upcast_putmask\u001b[0m\u001b[0;34m(\u001b[0m\u001b[0mresult\u001b[0m\u001b[0;34m,\u001b[0m \u001b[0;34m~\u001b[0m\u001b[0mmask\u001b[0m\u001b[0;34m,\u001b[0m \u001b[0mnp\u001b[0m\u001b[0;34m.\u001b[0m\u001b[0mnan\u001b[0m\u001b[0;34m)\u001b[0m\u001b[0;34m\u001b[0m\u001b[0m\n",
      "\u001b[0m\u001b[0;32m    675 \u001b[0;31m\u001b[0;34m\u001b[0m\u001b[0m\n",
      "\u001b[0m\u001b[0;32m    676 \u001b[0;31m        \u001b[0mresult\u001b[0m \u001b[0;34m=\u001b[0m \u001b[0mmissing\u001b[0m\u001b[0;34m.\u001b[0m\u001b[0mfill_zeros\u001b[0m\u001b[0;34m(\u001b[0m\u001b[0mresult\u001b[0m\u001b[0;34m,\u001b[0m \u001b[0mx\u001b[0m\u001b[0;34m,\u001b[0m \u001b[0my\u001b[0m\u001b[0;34m,\u001b[0m \u001b[0mname\u001b[0m\u001b[0;34m,\u001b[0m \u001b[0mfill_zeros\u001b[0m\u001b[0;34m)\u001b[0m\u001b[0;34m\u001b[0m\u001b[0m\n",
      "\u001b[0m\n",
      "> \u001b[0;32m/Users/mshevelev/anaconda2/lib/python2.7/site-packages/pandas/core/ops.py\u001b[0m(693)\u001b[0;36msafe_na_op\u001b[0;34m()\u001b[0m\n",
      "\u001b[0;32m    691 \u001b[0;31m                    return libalgos.arrmap_object(lvalues,\n",
      "\u001b[0m\u001b[0;32m    692 \u001b[0;31m                                                  lambda x: op(x, rvalues))\n",
      "\u001b[0m\u001b[0;32m--> 693 \u001b[0;31m            \u001b[0;32mraise\u001b[0m\u001b[0;34m\u001b[0m\u001b[0m\n",
      "\u001b[0m\u001b[0;32m    694 \u001b[0;31m\u001b[0;34m\u001b[0m\u001b[0m\n",
      "\u001b[0m\u001b[0;32m    695 \u001b[0;31m    \u001b[0;32mdef\u001b[0m \u001b[0mwrapper\u001b[0m\u001b[0;34m(\u001b[0m\u001b[0mleft\u001b[0m\u001b[0;34m,\u001b[0m \u001b[0mright\u001b[0m\u001b[0;34m,\u001b[0m \u001b[0mname\u001b[0m\u001b[0;34m=\u001b[0m\u001b[0mname\u001b[0m\u001b[0;34m,\u001b[0m \u001b[0mna_op\u001b[0m\u001b[0;34m=\u001b[0m\u001b[0mna_op\u001b[0m\u001b[0;34m)\u001b[0m\u001b[0;34m:\u001b[0m\u001b[0;34m\u001b[0m\u001b[0m\n",
      "\u001b[0m\n",
      "> \u001b[0;32m/Users/mshevelev/anaconda2/lib/python2.7/site-packages/pandas/core/ops.py\u001b[0m(721)\u001b[0;36mwrapper\u001b[0;34m()\u001b[0m\n",
      "\u001b[0;32m    719 \u001b[0;31m                \u001b[0mlvalues\u001b[0m \u001b[0;34m=\u001b[0m \u001b[0mlvalues\u001b[0m\u001b[0;34m.\u001b[0m\u001b[0mvalues\u001b[0m\u001b[0;34m\u001b[0m\u001b[0m\n",
      "\u001b[0m\u001b[0;32m    720 \u001b[0;31m\u001b[0;34m\u001b[0m\u001b[0m\n",
      "\u001b[0m\u001b[0;32m--> 721 \u001b[0;31m        \u001b[0mresult\u001b[0m \u001b[0;34m=\u001b[0m \u001b[0mwrap_results\u001b[0m\u001b[0;34m(\u001b[0m\u001b[0msafe_na_op\u001b[0m\u001b[0;34m(\u001b[0m\u001b[0mlvalues\u001b[0m\u001b[0;34m,\u001b[0m \u001b[0mrvalues\u001b[0m\u001b[0;34m)\u001b[0m\u001b[0;34m)\u001b[0m\u001b[0;34m\u001b[0m\u001b[0m\n",
      "\u001b[0m\u001b[0;32m    722 \u001b[0;31m        return construct_result(\n",
      "\u001b[0m\u001b[0;32m    723 \u001b[0;31m            \u001b[0mleft\u001b[0m\u001b[0;34m,\u001b[0m\u001b[0;34m\u001b[0m\u001b[0m\n",
      "\u001b[0m\n",
      "> \u001b[0;32m<ipython-input-8-371b57c9cbf9>\u001b[0m(4)\u001b[0;36morthogonalize_to_single_vector\u001b[0;34m()\u001b[0m\n",
      "\u001b[0;32m      2 \u001b[0;31m    \u001b[0;34m\"\"\"Orthogonalize y to x\"\"\"\u001b[0m\u001b[0;34m\u001b[0m\u001b[0m\n",
      "\u001b[0m\u001b[0;32m      3 \u001b[0;31m    \u001b[0mbeta\u001b[0m \u001b[0;34m=\u001b[0m \u001b[0mnp\u001b[0m\u001b[0;34m.\u001b[0m\u001b[0mcov\u001b[0m\u001b[0;34m(\u001b[0m\u001b[0my\u001b[0m\u001b[0;34m,\u001b[0m \u001b[0mx\u001b[0m\u001b[0;34m)\u001b[0m \u001b[0;34m/\u001b[0m \u001b[0mnp\u001b[0m\u001b[0;34m.\u001b[0m\u001b[0mcov\u001b[0m\u001b[0;34m(\u001b[0m\u001b[0mx\u001b[0m\u001b[0;34m,\u001b[0m \u001b[0mx\u001b[0m\u001b[0;34m)\u001b[0m\u001b[0;34m\u001b[0m\u001b[0m\n",
      "\u001b[0m\u001b[0;32m----> 4 \u001b[0;31m    \u001b[0my_ort\u001b[0m \u001b[0;34m=\u001b[0m \u001b[0my\u001b[0m \u001b[0;34m-\u001b[0m \u001b[0mx\u001b[0m \u001b[0;34m*\u001b[0m \u001b[0mbeta\u001b[0m\u001b[0;34m\u001b[0m\u001b[0m\n",
      "\u001b[0m\u001b[0;32m      5 \u001b[0;31m    \u001b[0;32mreturn\u001b[0m \u001b[0my_ort\u001b[0m\u001b[0;34m\u001b[0m\u001b[0m\n",
      "\u001b[0m\u001b[0;32m      6 \u001b[0;31m\u001b[0;34m\u001b[0m\u001b[0m\n",
      "\u001b[0m\n",
      "(2, 2)\n",
      "(980,)\n",
      "(980,)\n",
      "array([[ 24.69880824,  15.67148246],\n",
      "       [ 15.67148246,  24.71294212]])\n"
     ]
    }
   ],
   "source": [
    "np.cov"
   ]
  },
  {
   "cell_type": "code",
   "execution_count": null,
   "metadata": {},
   "outputs": [],
   "source": []
  },
  {
   "cell_type": "code",
   "execution_count": null,
   "metadata": {},
   "outputs": [],
   "source": []
  },
  {
   "cell_type": "code",
   "execution_count": 5,
   "metadata": {},
   "outputs": [],
   "source": [
    "if False:\n",
    "    x = np.array([2., 4., 15., 20])\n",
    "    y = np.array([1., 2., 3., 4.])\n",
    "    z = np.array([0., 0., 1., 1.])\n",
    "    z = np.array([0., 0., 1., 1.])\n",
    "\n",
    "    df = pd.DataFrame({\"x\": x, \"y\": y, \"z\": z})"
   ]
  },
  {
   "cell_type": "code",
   "execution_count": 26,
   "metadata": {},
   "outputs": [],
   "source": [
    "def sample_mv_gaussian(n_samples, mu, C):\n",
    "    assert len(mu) == C.shape[0] == C.shape[1]\n",
    "    m_variables = len(mu)\n",
    "    L = np.linalg.cholesky(C)\n",
    "    z = np.random.randn(m_variables, n_samples)\n",
    "    res = mu + np.dot(L, z).T\n",
    "    return res\n",
    "\n",
    "\n",
    "def cov_to_corr(C):\n",
    "    d = np.sqrt(np.diag(C))\n",
    "    C_corr = C / (d * d[:, None])\n",
    "    return C_corr\n",
    "    "
   ]
  },
  {
   "cell_type": "code",
   "execution_count": 48,
   "metadata": {},
   "outputs": [
    {
     "name": "stdout",
     "output_type": "stream",
     "text": [
      "cov:\n",
      "[[ 3.0066  0.9122 -2.3575  0.7327]\n",
      " [ 0.9122  1.4582 -2.536   0.4099]\n",
      " [-2.3575 -2.536   6.0499  0.3271]\n",
      " [ 0.7327  0.4099  0.3271  2.1997]]\n",
      "corr:\n",
      "[[ 1.      0.4356 -0.5528  0.2849]\n",
      " [ 0.4356  1.     -0.8538  0.2288]\n",
      " [-0.5528 -0.8538  1.      0.0897]\n",
      " [ 0.2849  0.2288  0.0897  1.    ]]\n"
     ]
    }
   ],
   "source": [
    "np.set_printoptions(precision=4, linewidth=300)\n",
    "C = np.random.randn(4,4)\n",
    "C = np.dot(C.T, C)\n",
    "print \"cov:\\n\",C\n",
    "d = np.sqrt(np.diag(C))\n",
    "C_corr = C / (d * d[:, None])\n",
    "print \"corr:\\n\", C_corr\n",
    "\n"
   ]
  },
  {
   "cell_type": "code",
   "execution_count": 49,
   "metadata": {},
   "outputs": [
    {
     "data": {
      "text/html": [
       "<div>\n",
       "<style>\n",
       "    .dataframe thead tr:only-child th {\n",
       "        text-align: right;\n",
       "    }\n",
       "\n",
       "    .dataframe thead th {\n",
       "        text-align: left;\n",
       "    }\n",
       "\n",
       "    .dataframe tbody tr th {\n",
       "        vertical-align: top;\n",
       "    }\n",
       "</style>\n",
       "<table border=\"1\" class=\"dataframe\">\n",
       "  <thead>\n",
       "    <tr style=\"text-align: right;\">\n",
       "      <th></th>\n",
       "      <th>x1</th>\n",
       "      <th>x2</th>\n",
       "      <th>x3</th>\n",
       "      <th>x4</th>\n",
       "    </tr>\n",
       "  </thead>\n",
       "  <tbody>\n",
       "    <tr>\n",
       "      <th>0</th>\n",
       "      <td>-0.393272</td>\n",
       "      <td>-15.484311</td>\n",
       "      <td>-11.412935</td>\n",
       "      <td>-9.844738</td>\n",
       "    </tr>\n",
       "    <tr>\n",
       "      <th>1</th>\n",
       "      <td>-0.414403</td>\n",
       "      <td>-17.362706</td>\n",
       "      <td>-11.268046</td>\n",
       "      <td>-10.472452</td>\n",
       "    </tr>\n",
       "    <tr>\n",
       "      <th>2</th>\n",
       "      <td>0.992308</td>\n",
       "      <td>-13.387772</td>\n",
       "      <td>-14.665082</td>\n",
       "      <td>-9.164141</td>\n",
       "    </tr>\n",
       "    <tr>\n",
       "      <th>3</th>\n",
       "      <td>-0.925878</td>\n",
       "      <td>-16.230206</td>\n",
       "      <td>-11.018061</td>\n",
       "      <td>-7.847344</td>\n",
       "    </tr>\n",
       "    <tr>\n",
       "      <th>4</th>\n",
       "      <td>-1.409223</td>\n",
       "      <td>-14.710290</td>\n",
       "      <td>-11.382047</td>\n",
       "      <td>-8.800754</td>\n",
       "    </tr>\n",
       "  </tbody>\n",
       "</table>\n",
       "</div>"
      ],
      "text/plain": [
       "         x1         x2         x3         x4\n",
       "0 -0.393272 -15.484311 -11.412935  -9.844738\n",
       "1 -0.414403 -17.362706 -11.268046 -10.472452\n",
       "2  0.992308 -13.387772 -14.665082  -9.164141\n",
       "3 -0.925878 -16.230206 -11.018061  -7.847344\n",
       "4 -1.409223 -14.710290 -11.382047  -8.800754"
      ]
     },
     "execution_count": 49,
     "metadata": {},
     "output_type": "execute_result"
    }
   ],
   "source": [
    "X = sample_mv_gaussian(1000, mu=10 * np.random.randn(C.shape[0]), C=cov_to_corr(C))\n",
    "df = pd.DataFrame(X, columns=[\"x1\", \"x2\", \"x3\", \"x4\"])\n",
    "df.head()"
   ]
  },
  {
   "cell_type": "code",
   "execution_count": 50,
   "metadata": {},
   "outputs": [
    {
     "data": {
      "text/html": [
       "<div>\n",
       "<style>\n",
       "    .dataframe thead tr:only-child th {\n",
       "        text-align: right;\n",
       "    }\n",
       "\n",
       "    .dataframe thead th {\n",
       "        text-align: left;\n",
       "    }\n",
       "\n",
       "    .dataframe tbody tr th {\n",
       "        vertical-align: top;\n",
       "    }\n",
       "</style>\n",
       "<table border=\"1\" class=\"dataframe\">\n",
       "  <thead>\n",
       "    <tr style=\"text-align: right;\">\n",
       "      <th></th>\n",
       "      <th>x1</th>\n",
       "      <th>x2</th>\n",
       "      <th>x3</th>\n",
       "      <th>x4</th>\n",
       "    </tr>\n",
       "  </thead>\n",
       "  <tbody>\n",
       "    <tr>\n",
       "      <th>x1</th>\n",
       "      <td>1.034794</td>\n",
       "      <td>0.455051</td>\n",
       "      <td>-0.604770</td>\n",
       "      <td>0.264017</td>\n",
       "    </tr>\n",
       "    <tr>\n",
       "      <th>x2</th>\n",
       "      <td>0.455051</td>\n",
       "      <td>1.019197</td>\n",
       "      <td>-0.892319</td>\n",
       "      <td>0.233057</td>\n",
       "    </tr>\n",
       "    <tr>\n",
       "      <th>x3</th>\n",
       "      <td>-0.604770</td>\n",
       "      <td>-0.892319</td>\n",
       "      <td>1.056453</td>\n",
       "      <td>0.075005</td>\n",
       "    </tr>\n",
       "    <tr>\n",
       "      <th>x4</th>\n",
       "      <td>0.264017</td>\n",
       "      <td>0.233057</td>\n",
       "      <td>0.075005</td>\n",
       "      <td>1.003494</td>\n",
       "    </tr>\n",
       "  </tbody>\n",
       "</table>\n",
       "</div>"
      ],
      "text/plain": [
       "          x1        x2        x3        x4\n",
       "x1  1.034794  0.455051 -0.604770  0.264017\n",
       "x2  0.455051  1.019197 -0.892319  0.233057\n",
       "x3 -0.604770 -0.892319  1.056453  0.075005\n",
       "x4  0.264017  0.233057  0.075005  1.003494"
      ]
     },
     "execution_count": 50,
     "metadata": {},
     "output_type": "execute_result"
    }
   ],
   "source": [
    "df.cov()"
   ]
  },
  {
   "cell_type": "code",
   "execution_count": null,
   "metadata": {},
   "outputs": [],
   "source": []
  },
  {
   "cell_type": "code",
   "execution_count": 51,
   "metadata": {},
   "outputs": [],
   "source": [
    "reg = LinearRegression()"
   ]
  },
  {
   "cell_type": "code",
   "execution_count": 52,
   "metadata": {},
   "outputs": [
    {
     "name": "stdout",
     "output_type": "stream",
     "text": [
      "[ 0.1923  0.1428]\n"
     ]
    }
   ],
   "source": [
    "reg.fit(df[[\"x1\", \"x2\"]], df[\"x4\"])\n",
    "print reg.coef_\n",
    "\n"
   ]
  },
  {
   "cell_type": "code",
   "execution_count": 53,
   "metadata": {},
   "outputs": [
    {
     "name": "stderr",
     "output_type": "stream",
     "text": [
      "/Users/mshevelev/anaconda2/lib/python2.7/site-packages/ipykernel_launcher.py:6: FutureWarning: reshape is deprecated and will raise in a subsequent release. Please use .values.reshape(...) instead\n",
      "  \n"
     ]
    },
    {
     "data": {
      "text/plain": [
       "array([[ 0.9502,  0.16  ],\n",
       "       [ 0.16  ,  0.8316]])"
      ]
     },
     "execution_count": 53,
     "metadata": {},
     "output_type": "execute_result"
    }
   ],
   "source": [
    "def pacf(y, x, z_list):\n",
    "    eps_y = y\n",
    "    eps_x = x\n",
    "    reg = LinearRegression()\n",
    "    for z in z_list:\n",
    "        X = z.reshape((len(z), 1))\n",
    "        reg.fit(X, eps_y)\n",
    "        eps_y = eps_y - reg.predict(X)\n",
    "        reg.fit(X, eps_x)\n",
    "        eps_x = eps_x - reg.predict(X)\n",
    "    return np.cov(eps_y, eps_x)\n",
    "\n",
    "pacf(df[\"x4\"], df[\"x1\"], [df[\"x2\"]])"
   ]
  },
  {
   "cell_type": "code",
   "execution_count": 34,
   "metadata": {},
   "outputs": [
    {
     "data": {
      "text/html": [
       "<div>\n",
       "<style>\n",
       "    .dataframe thead tr:only-child th {\n",
       "        text-align: right;\n",
       "    }\n",
       "\n",
       "    .dataframe thead th {\n",
       "        text-align: left;\n",
       "    }\n",
       "\n",
       "    .dataframe tbody tr th {\n",
       "        vertical-align: top;\n",
       "    }\n",
       "</style>\n",
       "<table border=\"1\" class=\"dataframe\">\n",
       "  <thead>\n",
       "    <tr style=\"text-align: right;\">\n",
       "      <th></th>\n",
       "      <th>x</th>\n",
       "      <th>y</th>\n",
       "      <th>z</th>\n",
       "    </tr>\n",
       "  </thead>\n",
       "  <tbody>\n",
       "    <tr>\n",
       "      <th>0</th>\n",
       "      <td>2.0</td>\n",
       "      <td>1.0</td>\n",
       "      <td>0.0</td>\n",
       "    </tr>\n",
       "    <tr>\n",
       "      <th>1</th>\n",
       "      <td>4.0</td>\n",
       "      <td>2.0</td>\n",
       "      <td>0.0</td>\n",
       "    </tr>\n",
       "    <tr>\n",
       "      <th>2</th>\n",
       "      <td>15.0</td>\n",
       "      <td>3.0</td>\n",
       "      <td>1.0</td>\n",
       "    </tr>\n",
       "    <tr>\n",
       "      <th>3</th>\n",
       "      <td>20.0</td>\n",
       "      <td>4.0</td>\n",
       "      <td>1.0</td>\n",
       "    </tr>\n",
       "  </tbody>\n",
       "</table>\n",
       "</div>"
      ],
      "text/plain": [
       "      x    y    z\n",
       "0   2.0  1.0  0.0\n",
       "1   4.0  2.0  0.0\n",
       "2  15.0  3.0  1.0\n",
       "3  20.0  4.0  1.0"
      ]
     },
     "execution_count": 34,
     "metadata": {},
     "output_type": "execute_result"
    }
   ],
   "source": [
    "df"
   ]
  },
  {
   "cell_type": "code",
   "execution_count": 24,
   "metadata": {},
   "outputs": [],
   "source": [
    "reg = LinearRegression()"
   ]
  },
  {
   "cell_type": "code",
   "execution_count": 36,
   "metadata": {},
   "outputs": [
    {
     "data": {
      "text/plain": [
       "0   -1.0\n",
       "1    1.0\n",
       "2   -2.5\n",
       "3    2.5\n",
       "Name: x, dtype: float64"
      ]
     },
     "execution_count": 36,
     "metadata": {},
     "output_type": "execute_result"
    }
   ],
   "source": [
    "reg.fit(df[['z']], df['x'])\n",
    "x_ort = df['x'] - reg.predict(df[['z']])\n",
    "x_ort "
   ]
  },
  {
   "cell_type": "code",
   "execution_count": 37,
   "metadata": {},
   "outputs": [
    {
     "data": {
      "text/plain": [
       "0   -0.5\n",
       "1    0.5\n",
       "2   -0.5\n",
       "3    0.5\n",
       "Name: y, dtype: float64"
      ]
     },
     "execution_count": 37,
     "metadata": {},
     "output_type": "execute_result"
    }
   ],
   "source": [
    "reg.fit(df[['z']], df['y'])\n",
    "y_ort = df['y'] - reg.predict(df[['z']])\n",
    "y_ort "
   ]
  },
  {
   "cell_type": "code",
   "execution_count": 38,
   "metadata": {},
   "outputs": [
    {
     "name": "stdout",
     "output_type": "stream",
     "text": [
      "0.969501551921\n",
      "0.919145030018\n"
     ]
    }
   ],
   "source": [
    "print np.corrcoef(x, y)[0, 1]\n",
    "print np.corrcoef(x_ort, y_ort)[0, 1]"
   ]
  },
  {
   "cell_type": "code",
   "execution_count": null,
   "metadata": {},
   "outputs": [],
   "source": [
    "np.linalg.lstsq()"
   ]
  }
 ],
 "metadata": {
  "kernelspec": {
   "display_name": "Python 2",
   "language": "python",
   "name": "python2"
  },
  "language_info": {
   "codemirror_mode": {
    "name": "ipython",
    "version": 2
   },
   "file_extension": ".py",
   "mimetype": "text/x-python",
   "name": "python",
   "nbconvert_exporter": "python",
   "pygments_lexer": "ipython2",
   "version": "2.7.14"
  }
 },
 "nbformat": 4,
 "nbformat_minor": 2
}
